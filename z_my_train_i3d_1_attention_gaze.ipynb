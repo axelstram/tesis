{
 "cells": [
  {
   "cell_type": "code",
   "execution_count": 1,
   "metadata": {
    "scrolled": true
   },
   "outputs": [
    {
     "name": "stdout",
     "output_type": "stream",
     "text": [
      "Random Seed:  922\n"
     ]
    }
   ],
   "source": [
    "from __future__ import print_function\n",
    "\n",
    "import os\n",
    "os.environ[\"CUDA_DEVICE_ORDER\"]=\"PCI_BUS_ID\"   \n",
    "#os.environ[\"CUDA_VISIBLE_DEVICES\"]='0,1,2,3'\n",
    "import sys\n",
    "import argparse\n",
    "import cv2\n",
    "\n",
    "import torch\n",
    "import torch.nn as nn\n",
    "import torch.nn.functional as F\n",
    "import torch.optim as optim\n",
    "from torch.optim import lr_scheduler\n",
    "from torch.autograd import Variable\n",
    "\n",
    "import torchvision\n",
    "from torchvision import datasets, transforms\n",
    "import videotransforms_attention\n",
    "\n",
    "\n",
    "import numpy as np\n",
    "\n",
    "from pytorch_i3d_attention_gaze import InceptionI3d\n",
    "\n",
    "from z_my_egtea_dataset_attention_gaze import Egtea as Dataset\n",
    "\n",
    "from pytorch_ranger import Ranger, RangerVA"
   ]
  },
  {
   "cell_type": "code",
   "execution_count": 2,
   "metadata": {},
   "outputs": [
    {
     "name": "stdout",
     "output_type": "stream",
     "text": [
      "Random Seed:  922\n"
     ]
    },
    {
     "data": {
      "text/plain": [
       "<torch._C.Generator at 0x7ff05bcd05d0>"
      ]
     },
     "execution_count": 2,
     "metadata": {},
     "output_type": "execute_result"
    }
   ],
   "source": [
    "n_wkers = 4\n",
    "b_sz = 30\n",
    "mx_steps = 64e3\n",
    "\n",
    "# try to set random seed\n",
    "manualSeed = 922\n",
    "print(\"Random Seed: \", manualSeed)\n",
    "torch.manual_seed(manualSeed)"
   ]
  },
  {
   "cell_type": "code",
   "execution_count": 3,
   "metadata": {},
   "outputs": [],
   "source": [
    "def calculate_loss(i3d, dataloader):\n",
    "    tot_loss = 0.0\n",
    "    tot_gaze_loss = 0.0\n",
    "        \n",
    "    for data in dataloader:\n",
    "        inputs, labels, gt_labels, gaze_locs = data\n",
    "        \n",
    "        # wrap them in Variable\n",
    "        inputs = Variable(inputs.cuda())\n",
    "        t = inputs.size(2)\n",
    "        labels = Variable(labels.cuda())\n",
    "\n",
    "        gt_labels = Variable(gt_labels.cuda())\n",
    "\n",
    "        per_frame_logits, a_map = i3d(inputs)\n",
    "\n",
    "        #print inputs.shape, per_frame_logits.shape, gaze_locs.shape #(12, 3, 16, 224, 224) (12, 106, 1) (12, 16, 2)\n",
    "\n",
    "        # upsample to input size\n",
    "        per_frame_logits = F.upsample(per_frame_logits, t, mode='linear')\n",
    "\n",
    "        loss = F.cross_entropy(torch.max(per_frame_logits, dim=2)[0], gt_labels)\n",
    "        #loss /= num_steps_per_update\n",
    "\n",
    "        tot_loss += loss.data.item() / len(inputs)\n",
    "        #loss.backward()\n",
    "\n",
    "        a_map = a_map.squeeze(1)\n",
    "\n",
    "        map_N, map_t, map_height, map_width = a_map.shape\n",
    "        map_Data_s = torch.zeros([map_N, map_t, map_height, map_width], dtype=torch.float32)\n",
    "\n",
    "        for n_idx in range(map_N):\n",
    "            gaze_avg1 = torch.mean(gaze_locs[n_idx, 0:8, :], dim=0)\n",
    "            gaze_avg2 = torch.mean(gaze_locs[n_idx, 8:16, :], dim=0)\n",
    "\n",
    "            x, y = gaze_avg1[0] * map_width, gaze_avg1[1] * map_height\n",
    "            u, v = gaze_avg2[0] * map_width, gaze_avg2[1] * map_height\n",
    "            sigma = 3\n",
    "            for i in range(0, map_height):\n",
    "                for j in range(0, map_width):\n",
    "                    map_Data_s[n_idx, 0, i, j] = torch.exp(-1.0 * ((j - x) * (j - x) + (i - y) * (i - y)) / (2 * sigma * sigma))\n",
    "                    map_Data_s[n_idx, 1, i, j] = torch.exp(-1.0 * ((j - u) * (j - u) + (i - v) * (i - v)) / (2 * sigma * sigma))\n",
    "\n",
    "        map_Data_s = map_Data_s.cuda()\n",
    "\n",
    "        gaze_loss = F.mse_loss(map_Data_s, a_map)\n",
    "        #gaze_loss /= num_steps_per_update\n",
    "\n",
    "        tot_gaze_loss += gaze_loss.item() / len(inputs)\n",
    "\n",
    "#     return tot_loss/len(dataloader.dataset), tot_gaze_loss/len(dataloader.dataset)\n",
    "    return tot_loss, tot_gaze_loss"
   ]
  },
  {
   "cell_type": "code",
   "execution_count": 4,
   "metadata": {},
   "outputs": [],
   "source": [
    "def run(init_lr=0.1, max_steps=64e3, mode='rgb', batch_size=b_sz, save_model='./tmp/'):\n",
    "\n",
    "    if mode == 'flow':\n",
    "        root = './dataset/EGTEA_Gaze_plus/z_frames_flow'\n",
    "    else:\n",
    "        root = './dataset/EGTEA_Gaze_plus/z_frames_rgb'\n",
    "\n",
    "    gaze_root = './dataset/EGTEA_Gaze_plus/z_gaze_data'\n",
    "    train_split = './dataset/EGTEA_Gaze_plus/action_annotation/train_split4.txt'\n",
    "    val_split = './dataset/EGTEA_Gaze_plus/action_annotation/val_split.txt'\n",
    "\n",
    "    # setup dataset\n",
    "    train_transforms = transforms.Compose([videotransforms_attention.RandomCrop(224),\n",
    "                                           videotransforms_attention.RandomHorizontalFlip(),\n",
    "    ])\n",
    "\n",
    "    dataset = Dataset(train_split, 'training', root, gaze_root, mode, train_transforms)\n",
    "    dataloader = torch.utils.data.DataLoader(dataset, batch_size=batch_size, shuffle=True, num_workers=n_wkers, pin_memory=True)\n",
    "\n",
    "    dataset_val = Dataset(val_split, 'val', root, gaze_root, mode, train_transforms)\n",
    "    dataloader_val = torch.utils.data.DataLoader(dataset_val, batch_size=12, shuffle=True, num_workers=n_wkers, pin_memory=True)\n",
    "\n",
    "    dataloaders = {'train': dataloader, 'val': dataloader_val}\n",
    "    \n",
    "    # setup the model\n",
    "    if mode == 'flow':\n",
    "        i3d = InceptionI3d(106, in_channels=2, expanded=False)\n",
    "        i3d.load_state_dict(torch.load('models/flow_a.pt'), strict=False)\n",
    "    else:\n",
    "        i3d = InceptionI3d(106, in_channels=3, expanded=True)\n",
    "        i3d.load_state_dict(torch.load('models/rgb_a.pt'), strict=False)\n",
    "    \n",
    "    i3d.copy_attention_weights()\n",
    "\n",
    "    i3d.cuda()\n",
    "    i3d = nn.DataParallel(i3d)\n",
    "\n",
    "    lr = init_lr\n",
    "    optimizer = optim.SGD(i3d.parameters(), lr=lr, momentum=0.9, weight_decay=0.0000001)\n",
    "    lr_sched = optim.lr_scheduler.MultiStepLR(optimizer, [300, 1000])\n",
    "    \n",
    "    scaler = torch.cuda.amp.GradScaler()\n",
    "\n",
    "    num_steps_per_update = 4 # accum gradient\n",
    "    steps = 0\n",
    "    # train it\n",
    "    while steps < max_steps:#for epoch in range(num_epochs):\n",
    "        with open('output.txt', 'a') as f:\n",
    "            f.write('Step {}/{}\\n'.format(steps, max_steps))\n",
    "            \n",
    "        print('Step {}/{}'.format(steps, max_steps))\n",
    "        print(optimizer.param_groups[0]['lr'])\n",
    "        print('-' * 10)\n",
    "\n",
    "        # Each epoch has a training and validation phase\n",
    "        for phase in ['train']:\n",
    "            if phase == 'train':\n",
    "                i3d.train(True)\n",
    "            else:\n",
    "                i3d.train(False)  # Set model to evaluate mode\n",
    "                \n",
    "            tot_loss = 0.0\n",
    "            tot_gaze_loss = 0.0\n",
    "\n",
    "            num_iter = 0\n",
    "            optimizer.zero_grad()\n",
    "            \n",
    "            # Iterate over data.\n",
    "            for data in dataloaders[phase]:\n",
    "                num_iter += 1\n",
    "                # get the inputs\n",
    "                inputs, labels, gt_labels, gaze_locs = data\n",
    "\n",
    "                # wrap them in Variable\n",
    "                inputs = Variable(inputs.cuda())\n",
    "                t = inputs.size(2)\n",
    "                labels = Variable(labels.cuda())\n",
    "\n",
    "                gt_labels = Variable(gt_labels.cuda())\n",
    "                \n",
    "                with torch.cuda.amp.autocast():\n",
    "                    per_frame_logits, a_map = i3d(inputs)\n",
    "\n",
    "                    #print inputs.shape, per_frame_logits.shape, gaze_locs.shape #(12, 3, 16, 224, 224) (12, 106, 1) (12, 16, 2)\n",
    "\n",
    "                    # upsample to input size\n",
    "                    per_frame_logits = F.upsample(per_frame_logits, t, mode='linear')\n",
    "\n",
    "                    loss = F.cross_entropy(torch.max(per_frame_logits, dim=2)[0], gt_labels)\n",
    "                    loss /= num_steps_per_update\n",
    "\n",
    "                    tot_loss += loss.data.item()\n",
    "                    #loss.backward()\n",
    "\n",
    "                    a_map = a_map.squeeze(1)\n",
    "\n",
    "                    map_N, map_t, map_height, map_width = a_map.shape\n",
    "                    map_Data_s = torch.zeros([map_N, map_t, map_height, map_width], dtype=torch.float32)\n",
    "\n",
    "                    for n_idx in range(map_N):\n",
    "                        gaze_avg1 = torch.mean(gaze_locs[n_idx, 0:8, :], dim=0)\n",
    "                        gaze_avg2 = torch.mean(gaze_locs[n_idx, 8:16, :], dim=0)\n",
    "\n",
    "                        x, y = gaze_avg1[0] * map_width, gaze_avg1[1] * map_height\n",
    "                        u, v = gaze_avg2[0] * map_width, gaze_avg2[1] * map_height\n",
    "                        sigma = 3\n",
    "                        for i in range(0, map_height):\n",
    "                            for j in range(0, map_width):\n",
    "                                map_Data_s[n_idx, 0, i, j] = torch.exp(-1.0 * ((j - x) * (j - x) + (i - y) * (i - y)) / (2 * sigma * sigma))\n",
    "                                map_Data_s[n_idx, 1, i, j] = torch.exp(-1.0 * ((j - u) * (j - u) + (i - v) * (i - v)) / (2 * sigma * sigma))\n",
    "\n",
    "                    map_Data_s = map_Data_s.cuda()\n",
    "\n",
    "                    gaze_loss = F.mse_loss(map_Data_s, a_map)\n",
    "                    gaze_loss /= num_steps_per_update\n",
    "\n",
    "                    tot_gaze_loss += gaze_loss.item()\n",
    "\n",
    "                    loss_two = loss + gaze_loss*0.1\n",
    "                \n",
    "                scaler.scale(loss_two).backward()\n",
    "                #loss_two.backward()\n",
    "\n",
    "                if num_iter == num_steps_per_update and phase == 'train':\n",
    "                    steps += 1\n",
    "                    num_iter = 0\n",
    "                    #optimizer.step()\n",
    "                    scaler.step(optimizer)\n",
    "                    scaler.update()\n",
    "                    optimizer.zero_grad()\n",
    "                    lr_sched.step()\n",
    "                    \n",
    "                    num_steps_to_eval = 10\n",
    "                    \n",
    "                    if steps % num_steps_to_eval == 0:\n",
    "                        with torch.cuda.amp.autocast():\n",
    "                            loss_val, gaze_loss_val = calculate_loss(i3d, dataloader_val)\n",
    "\n",
    "                            with open('output.txt', 'a') as f:\n",
    "                                f.write('Train Tot Loss: {:.4f} Train Gaze Loss: {:.4f} - Val Tot Loss: {:.4f} Val Gaze Loss: {:.4f}\\n'.format(tot_loss/num_steps_to_eval, tot_gaze_loss/num_steps_to_eval, loss_val, gaze_loss_val))\n",
    "\n",
    "                            print('Train Tot Loss: {:.4f} Train Gaze Loss: {:.4f} - Val Tot Loss: {:.4f} Val Gaze Loss: {:.4f}'.format(tot_loss/num_steps_to_eval, tot_gaze_loss/num_steps_to_eval, loss_val, gaze_loss_val))\n",
    "                        if steps % 1000 == 0:\n",
    "                            # save model\n",
    "                            torch.save(i3d.module.state_dict(), save_model+str(steps).zfill(6)+'.pt')\n",
    "                        tot_loss = tot_gaze_loss = 0."
   ]
  },
  {
   "cell_type": "code",
   "execution_count": null,
   "metadata": {
    "scrolled": true
   },
   "outputs": [
    {
     "name": "stdout",
     "output_type": "stream",
     "text": [
      "Step 0/64000.0\n",
      "0.1\n",
      "----------\n"
     ]
    },
    {
     "name": "stderr",
     "output_type": "stream",
     "text": [
      "/data/axel/miniconda3/envs/pytorch/lib/python3.8/site-packages/torch/nn/functional.py:2952: UserWarning: nn.functional.upsample is deprecated. Use nn.functional.interpolate instead.\n",
      "  warnings.warn(\"nn.functional.upsample is deprecated. Use nn.functional.interpolate instead.\")\n",
      "/data/axel/miniconda3/envs/pytorch/lib/python3.8/site-packages/torch/nn/functional.py:3060: UserWarning: Default upsampling behavior when mode=linear is changed to align_corners=False since 0.4.0. Please specify align_corners=True if the old behavior is desired. See the documentation of nn.Upsample for details.\n",
      "  warnings.warn(\"Default upsampling behavior when mode={} is changed \"\n"
     ]
    },
    {
     "name": "stdout",
     "output_type": "stream",
     "text": [
      "Train Tot Loss: 0.9611 Train Gaze Loss: 0.3750 - Val Tot Loss: 7.1327 Val Gaze Loss: 1.0034\n"
     ]
    }
   ],
   "source": [
    "run()"
   ]
  },
  {
   "cell_type": "code",
   "execution_count": null,
   "metadata": {},
   "outputs": [],
   "source": []
  },
  {
   "cell_type": "code",
   "execution_count": null,
   "metadata": {},
   "outputs": [],
   "source": []
  },
  {
   "cell_type": "code",
   "execution_count": null,
   "metadata": {},
   "outputs": [],
   "source": []
  },
  {
   "cell_type": "code",
   "execution_count": null,
   "metadata": {},
   "outputs": [],
   "source": []
  }
 ],
 "metadata": {
  "kernelspec": {
   "display_name": "Python 3",
   "language": "python",
   "name": "python3"
  },
  "language_info": {
   "codemirror_mode": {
    "name": "ipython",
    "version": 3
   },
   "file_extension": ".py",
   "mimetype": "text/x-python",
   "name": "python",
   "nbconvert_exporter": "python",
   "pygments_lexer": "ipython3",
   "version": "3.8.5"
  }
 },
 "nbformat": 4,
 "nbformat_minor": 4
}
